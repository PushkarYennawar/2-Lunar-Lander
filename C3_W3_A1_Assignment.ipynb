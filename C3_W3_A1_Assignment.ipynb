{
 "cells": [
  {
   "cell_type": "markdown",
   "metadata": {},
   "source": [
    "# Deep Q-Learning - Lunar Lander\n",
    "\n",
    "In this assignment, you will train an agent to land a lunar lander safely on a landing pad on the surface of the moon.\n",
    "\n",
    "\n",
    "# Outline\n",
    "- [ 1 - Import Packages <img align=\"Right\" src=\"./images/lunar_lander.gif\" width = 60% >](#1)\n",
    "- [ 2 - Hyperparameters](#2)\n",
    "- [ 3 - The Lunar Lander Environment](#3)\n",
    "  - [ 3.1 Action Space](#3.1)\n",
    "  - [ 3.2 Observation Space](#3.2)\n",
    "  - [ 3.3 Rewards](#3.3)\n",
    "  - [ 3.4 Episode Termination](#3.4)\n",
    "- [ 4 - Load the Environment](#4)\n",
    "- [ 5 - Interacting with the Gym Environment](#5)\n",
    "    - [ 5.1 Exploring the Environment's Dynamics](#5.1)\n",
    "- [ 6 - Deep Q-Learning](#6)\n",
    "  - [ 6.1 Target Network](#6.1)\n",
    "    - [ Exercise 1](#ex01)\n",
    "  - [ 6.2 Experience Replay](#6.2)\n",
    "- [ 7 - Deep Q-Learning Algorithm with Experience Replay](#7)\n",
    "  - [ Exercise 2](#ex02)\n",
    "- [ 8 - Update the Network Weights](#8)\n",
    "- [ 9 - Train the Agent](#9)\n",
    "- [ 10 - See the Trained Agent In Action](#10)\n",
    "- [ 11 - Congratulations!](#11)\n",
    "- [ 12 - References](#12)\n"
   ]
  },
  {
   "cell_type": "markdown",
   "metadata": {},
   "source": [
    "_**NOTE:** To prevent errors from the autograder, you are not allowed to edit or delete non-graded cells in this lab. Please also refrain from adding any new cells. \n",
    "**Once you have passed this assignment** and want to experiment with any of the non-graded code, you may follow the instructions at the bottom of this notebook._"
   ]
  },
  {
   "cell_type": "markdown",
   "metadata": {},
   "source": [
    "<a name=\"1\"></a>\n",
    "## 1 - Import Packages\n",
    "\n",
    "We'll make use of the following packages:\n",
    "- `numpy` is a package for scientific computing in python.\n",
    "- `deque` will be our data structure for our memory buffer.\n",
    "- `namedtuple` will be used to store the experience tuples.\n",
    "- The `gym` toolkit is a collection of environments that can be used to test reinforcement learning algorithms. We should note that in this notebook we are using `gym` version `0.24.0`.\n",
    "- `PIL.Image` and `pyvirtualdisplay` are needed to render the Lunar Lander environment.\n",
    "- We will use several modules from the `tensorflow.keras` framework for building deep learning models.\n",
    "- `utils` is a module that contains helper functions for this assignment. You do not need to modify the code in this file.\n",
    "\n",
    "Run the cell below to import all the necessary packages."
   ]
  },
  {
   "cell_type": "code",
   "execution_count": 1,
   "metadata": {
    "deletable": false,
    "editable": false,
    "id": "KYbOPKRtfQOr"
   },
   "outputs": [],
   "source": [
    "import time\n",
    "from collections import deque, namedtuple\n",
    "\n",
    "import gym\n",
    "import numpy as np\n",
    "import PIL.Image\n",
    "import tensorflow as tf\n",
    "import utils\n",
    "\n",
    "from pyvirtualdisplay import Display\n",
    "from tensorflow.keras import Sequential\n",
    "from tensorflow.keras.layers import Dense, Input\n",
    "from tensorflow.keras.losses import MSE\n",
    "from tensorflow.keras.optimizers import Adam"
   ]
  },
  {
   "cell_type": "code",
   "execution_count": 3,
   "metadata": {
    "deletable": false,
    "editable": false
   },
   "outputs": [],
   "source": [
    "# Set up a virtual display to render the Lunar Lander environment.\n",
    "Display(visible=0, size=(840, 480)).start();\n",
    "\n",
    "# Set the random seed for TensorFlow\n",
    "tf.random.set_seed(utils.SEED)"
   ]
  },
  {
   "cell_type": "markdown",
   "metadata": {},
   "source": [
    "<a name=\"2\"></a>\n",
    "## 2 - Hyperparameters\n",
    "\n",
    "Run the cell below to set the hyperparameters."
   ]
  },
  {
   "cell_type": "code",
   "execution_count": 4,
   "metadata": {
    "deletable": false,
    "editable": false
   },
   "outputs": [],
   "source": [
    "MEMORY_SIZE = 100_000     # size of memory buffer\n",
    "GAMMA = 0.995             # discount factor\n",
    "ALPHA = 1e-3              # learning rate  \n",
    "NUM_STEPS_FOR_UPDATE = 4  # perform a learning update every C time steps"
   ]
  },
  {
   "cell_type": "markdown",
   "metadata": {},
   "source": [
    "<a name=\"3\"></a>\n",
    "## 3 - The Lunar Lander Environment\n",
    "\n",
    "In this notebook we will be using [OpenAI's Gym Library](https://www.gymlibrary.dev/). The Gym library provides a wide variety of environments for reinforcement learning. To put it simply, an environment represents a problem or task to be solved. In this notebook, we will try to solve the Lunar Lander environment using reinforcement learning.\n",
    "\n",
    "The goal of the Lunar Lander environment is to land the lunar lander safely on the landing pad on the surface of the moon. The landing pad is designated by two flag poles and its center is at coordinates `(0,0)` but the lander is also allowed to land outside of the landing pad. The lander starts at the top center of the environment with a random initial force applied to its center of mass and has infinite fuel. The environment is considered solved if you get `200` points. \n",
    "\n",
    "<br>\n",
    "<br>\n",
    "<figure>\n",
    "  <img src = \"images/lunar_lander.gif\" width = 40%>\n",
    "      <figcaption style = \"text-align: center; font-style: italic\">Fig 1. Lunar Lander Environment.</figcaption>\n",
    "</figure>\n",
    "\n",
    "\n",
    "\n",
    "<a name=\"3.1\"></a>\n",
    "### 3.1 Action Space\n",
    "\n",
    "The agent has four discrete actions available:\n",
    "\n",
    "* Do nothing.\n",
    "* Fire right engine.\n",
    "* Fire main engine.\n",
    "* Fire left engine.\n",
    "\n",
    "Each action has a corresponding numerical value:\n",
    "\n",
    "```python\n",
    "Do nothing = 0\n",
    "Fire right engine = 1\n",
    "Fire main engine = 2\n",
    "Fire left engine = 3\n",
    "```\n",
    "\n",
    "<a name=\"3.2\"></a>\n",
    "### 3.2 Observation Space\n",
    "\n",
    "The agent's observation space consists of a state vector with 8 variables:\n",
    "\n",
    "* Its $(x,y)$ coordinates. The landing pad is always at coordinates $(0,0)$.\n",
    "* Its linear velocities $(\\dot x,\\dot y)$.\n",
    "* Its angle $\\theta$.\n",
    "* Its angular velocity $\\dot \\theta$.\n",
    "* Two booleans, $l$ and $r$, that represent whether each leg is in contact with the ground or not.\n",
    "\n",
    "<a name=\"3.3\"></a>\n",
    "### 3.3 Rewards\n",
    "\n",
    "After every step, a reward is granted. The total reward of an episode is the sum of the rewards for all the steps within that episode.\n",
    "\n",
    "For each step, the reward:\n",
    "- is increased/decreased the closer/further the lander is to the landing pad.\n",
    "- is increased/decreased the slower/faster the lander is moving.\n",
    "- is decreased the more the lander is tilted (angle not horizontal).\n",
    "- is increased by 10 points for each leg that is in contact with the ground.\n",
    "- is decreased by 0.03 points each frame a side engine is firing.\n",
    "- is decreased by 0.3 points each frame the main engine is firing.\n",
    "\n",
    "The episode receives an additional reward of -100 or +100 points for crashing or landing safely respectively.\n",
    "\n",
    "<a name=\"3.4\"></a>\n",
    "### 3.4 Episode Termination\n",
    "\n",
    "An episode ends (i.e the environment enters a terminal state) if:\n",
    "\n",
    "* The lunar lander crashes (i.e if the body of the lunar lander comes in contact with the surface of the moon).\n",
    "\n",
    "* The absolute value of the lander's $x$-coordinate is greater than 1 (i.e. it goes beyond the left or right border)\n",
    "\n",
    "You can check out the [Open AI Gym documentation](https://www.gymlibrary.dev/environments/box2d/lunar_lander/) for a full description of the environment. "
   ]
  },
  {
   "cell_type": "markdown",
   "metadata": {},
   "source": [
    "<a name=\"4\"></a>\n",
    "## 4 - Load the Environment\n",
    "\n",
    "We start by loading the `LunarLander-v2` environment from the `gym` library by using the `.make()` method. `LunarLander-v2` is the latest version of the Lunar Lander environment and you can read about its version history in the [Open AI Gym documentation](https://www.gymlibrary.dev/environments/box2d/lunar_lander/#version-history)."
   ]
  },
  {
   "cell_type": "code",
   "execution_count": 5,
   "metadata": {
    "deletable": false,
    "editable": false,
    "id": "ILVMYKewfR0n"
   },
   "outputs": [],
   "source": [
    "env = gym.make('LunarLander-v2')"
   ]
  },
  {
   "cell_type": "markdown",
   "metadata": {},
   "source": [
    "Once we load the environment we use the `.reset()` method to reset the environment to the initial state. The lander starts at the top center of the environment and we can render the first frame of the environment by using the `.render()` method."
   ]
  },
  {
   "cell_type": "code",
   "execution_count": 6,
   "metadata": {
    "deletable": false,
    "editable": false
   },
   "outputs": [
    {
     "data": {
      "image/png": "[encoded data removed]",
      "text/plain": [
       "<PIL.Image.Image image mode=RGB size=600x400 at 0x701F65A95E90>"
      ]
     },
     "execution_count": 6,
     "metadata": {},
     "output_type": "execute_result"
    }
   ],
   "source": [
    "env.reset()\n",
    "PIL.Image.fromarray(env.render(mode='rgb_array'))"
   ]
  },
  {
   "cell_type": "markdown",
   "metadata": {},
   "source": [
    "In order to build our neural network later on we need to know the size of the state vector and the number of valid actions. We can get this information from our environment by using the `.observation_space.shape` and `action_space.n` methods, respectively."
   ]
  },
  {
   "cell_type": "code",
   "execution_count": 7,
   "metadata": {
    "deletable": false,
    "editable": false,
    "id": "x3fdqdG4CUu2"
   },
   "outputs": [
    {
     "name": "stdout",
     "output_type": "stream",
     "text": [
      "State Shape: (8,)\n",
      "Number of actions: 4\n"
     ]
    }
   ],
   "source": [
    "state_size = env.observation_space.shape\n",
    "num_actions = env.action_space.n\n",
    "\n",
    "print('State Shape:', state_size)\n",
    "print('Number of actions:', num_actions)"
   ]
  },
  {
   "cell_type": "code",
   "execution_count": 24,
   "metadata": {},
   "outputs": [],
   "source": [
    "state = env.reset()"
   ]
  },
  {
   "cell_type": "code",
   "execution_count": 26,
   "metadata": {},
   "outputs": [
    {
     "name": "stdout",
     "output_type": "stream",
     "text": [
      "(8,)\n"
     ]
    }
   ],
   "source": [
    "print(state.shape)"
   ]
  },
  {
   "cell_type": "markdown",
   "metadata": {},
   "source": [
    "<a name=\"5\"></a>\n",
    "## 5 - Interacting with the Gym Environment\n",
    "\n",
    "The Gym library implements the standard “agent-environment loop” formalism:\n",
    "\n",
    "<br>\n",
    "<center>\n",
    "<video src = \"./videos/rl_formalism.m4v\" width=\"840\" height=\"480\" controls autoplay loop poster=\"./images/rl_formalism.png\"> </video>\n",
    "<figcaption style = \"text-align:center; font-style:italic\">Fig 2. Agent-environment Loop Formalism.</figcaption>\n",
    "</center>\n",
    "<br>\n",
    "\n",
    "In the standard “agent-environment loop” formalism, an agent interacts with the environment in discrete time steps $t=0,1,2,...$. At each time step $t$, the agent uses a policy $\\pi$ to select an action $A_t$ based on its observation of the environment's state $S_t$. The agent receives a numerical reward $R_t$ and on the next time step, moves to a new state $S_{t+1}$.\n",
    "\n",
    "<a name=\"5.1\"></a>\n",
    "### 5.1 Exploring the Environment's Dynamics\n",
    "\n",
    "In Open AI's Gym environments, we use the `.step()` method to run a single time step of the environment's dynamics. In the version of `gym` that we are using the `.step()` method accepts an action and returns four values:\n",
    "\n",
    "* `observation` (**object**): an environment-specific object representing your observation of the environment. In the Lunar Lander environment this corresponds to a numpy array containing the positions and velocities of the lander as described in section [3.2 Observation Space](#3.2).\n",
    "\n",
    "\n",
    "* `reward` (**float**): amount of reward returned as a result of taking the given action. In the Lunar Lander environment this corresponds to a float of type `numpy.float64` as described in section [3.3 Rewards](#3.3).\n",
    "\n",
    "\n",
    "* `done` (**boolean**): When done is `True`, it indicates the episode has terminated and it’s time to reset the environment. \n",
    "\n",
    "\n",
    "* `info` (**dictionary**): diagnostic information useful for debugging. We won't be using this variable in this notebook but it is shown here for completeness.\n",
    "\n",
    "To begin an episode, we need to reset the environment to an initial state. We do this by using the `.reset()` method. "
   ]
  },
  {
   "cell_type": "code",
   "execution_count": 8,
   "metadata": {
    "deletable": false,
    "editable": false
   },
   "outputs": [],
   "source": [
    "# Reset the environment and get the initial state.\n",
    "current_state = env.reset()"
   ]
  },
  {
   "cell_type": "markdown",
   "metadata": {},
   "source": [
    "Once the environment is reset, the agent can start taking actions in the environment by using the `.step()` method. Note that the agent can only take one action per time step. \n",
    "\n",
    "In the cell below you can select different actions and see how the returned values change depending on the action taken. Remember that in this environment the agent has four discrete actions available and we specify them in code by using their corresponding numerical value:\n",
    "\n",
    "```python\n",
    "Do nothing = 0\n",
    "Fire right engine = 1\n",
    "Fire main engine = 2\n",
    "Fire left engine = 3\n",
    "```"
   ]
  },
  {
   "cell_type": "code",
   "execution_count": 9,
   "metadata": {
    "deletable": false
   },
   "outputs": [
    {
     "data": {
      "text/html": [
       "<style  type=\"text/css\" >\n",
       "    #T_477d1e02_40ee_11ef_bd5d_0242ac120004 th {\n",
       "          border: 1px solid grey;\n",
       "          text-align: center;\n",
       "    }    #T_477d1e02_40ee_11ef_bd5d_0242ac120004 tbody td {\n",
       "          border: 1px solid grey;\n",
       "          text-align: center;\n",
       "    }    #T_477d1e02_40ee_11ef_bd5d_0242ac120004row0_col0 {\n",
       "            background-color :  grey;\n",
       "        }    #T_477d1e02_40ee_11ef_bd5d_0242ac120004row1_col1 {\n",
       "            background-color :  grey;\n",
       "        }    #T_477d1e02_40ee_11ef_bd5d_0242ac120004row1_col2 {\n",
       "            background-color :  grey;\n",
       "        }    #T_477d1e02_40ee_11ef_bd5d_0242ac120004row1_col3 {\n",
       "            background-color :  grey;\n",
       "        }    #T_477d1e02_40ee_11ef_bd5d_0242ac120004row1_col4 {\n",
       "            background-color :  grey;\n",
       "        }    #T_477d1e02_40ee_11ef_bd5d_0242ac120004row1_col5 {\n",
       "            background-color :  grey;\n",
       "        }    #T_477d1e02_40ee_11ef_bd5d_0242ac120004row1_col6 {\n",
       "            background-color :  grey;\n",
       "        }    #T_477d1e02_40ee_11ef_bd5d_0242ac120004row1_col7 {\n",
       "            background-color :  grey;\n",
       "        }    #T_477d1e02_40ee_11ef_bd5d_0242ac120004row1_col8 {\n",
       "            background-color :  grey;\n",
       "        }    #T_477d1e02_40ee_11ef_bd5d_0242ac120004row1_col9 {\n",
       "            background-color :  grey;\n",
       "        }    #T_477d1e02_40ee_11ef_bd5d_0242ac120004row1_col10 {\n",
       "            background-color :  grey;\n",
       "        }    #T_477d1e02_40ee_11ef_bd5d_0242ac120004row1_col11 {\n",
       "            background-color :  grey;\n",
       "        }    #T_477d1e02_40ee_11ef_bd5d_0242ac120004row2_col0 {\n",
       "            background-color :  grey;\n",
       "        }    #T_477d1e02_40ee_11ef_bd5d_0242ac120004row3_col1 {\n",
       "            background-color :  grey;\n",
       "        }    #T_477d1e02_40ee_11ef_bd5d_0242ac120004row3_col2 {\n",
       "            background-color :  grey;\n",
       "        }    #T_477d1e02_40ee_11ef_bd5d_0242ac120004row3_col3 {\n",
       "            background-color :  grey;\n",
       "        }    #T_477d1e02_40ee_11ef_bd5d_0242ac120004row3_col4 {\n",
       "            background-color :  grey;\n",
       "        }    #T_477d1e02_40ee_11ef_bd5d_0242ac120004row3_col5 {\n",
       "            background-color :  grey;\n",
       "        }    #T_477d1e02_40ee_11ef_bd5d_0242ac120004row3_col6 {\n",
       "            background-color :  grey;\n",
       "        }    #T_477d1e02_40ee_11ef_bd5d_0242ac120004row3_col7 {\n",
       "            background-color :  grey;\n",
       "        }    #T_477d1e02_40ee_11ef_bd5d_0242ac120004row3_col8 {\n",
       "            background-color :  grey;\n",
       "        }    #T_477d1e02_40ee_11ef_bd5d_0242ac120004row3_col9 {\n",
       "            background-color :  grey;\n",
       "        }    #T_477d1e02_40ee_11ef_bd5d_0242ac120004row3_col10 {\n",
       "            background-color :  grey;\n",
       "        }    #T_477d1e02_40ee_11ef_bd5d_0242ac120004row3_col11 {\n",
       "            background-color :  grey;\n",
       "        }    #T_477d1e02_40ee_11ef_bd5d_0242ac120004row4_col1 {\n",
       "            background-color :  grey;\n",
       "        }    #T_477d1e02_40ee_11ef_bd5d_0242ac120004row4_col2 {\n",
       "            background-color :  grey;\n",
       "        }    #T_477d1e02_40ee_11ef_bd5d_0242ac120004row4_col3 {\n",
       "            background-color :  grey;\n",
       "        }    #T_477d1e02_40ee_11ef_bd5d_0242ac120004row4_col4 {\n",
       "            background-color :  grey;\n",
       "        }    #T_477d1e02_40ee_11ef_bd5d_0242ac120004row4_col5 {\n",
       "            background-color :  grey;\n",
       "        }    #T_477d1e02_40ee_11ef_bd5d_0242ac120004row4_col6 {\n",
       "            background-color :  grey;\n",
       "        }    #T_477d1e02_40ee_11ef_bd5d_0242ac120004row4_col7 {\n",
       "            background-color :  grey;\n",
       "        }    #T_477d1e02_40ee_11ef_bd5d_0242ac120004row4_col8 {\n",
       "            background-color :  grey;\n",
       "        }    #T_477d1e02_40ee_11ef_bd5d_0242ac120004row4_col9 {\n",
       "            background-color :  grey;\n",
       "        }    #T_477d1e02_40ee_11ef_bd5d_0242ac120004row4_col10 {\n",
       "            background-color :  grey;\n",
       "        }    #T_477d1e02_40ee_11ef_bd5d_0242ac120004row4_col11 {\n",
       "            background-color :  grey;\n",
       "        }</style><table id=\"T_477d1e02_40ee_11ef_bd5d_0242ac120004\" ><thead>    <tr>        <th class=\"blank level0\" ></th>        <th class=\"col_heading level0 col0\" ></th>        <th class=\"col_heading level0 col1\" colspan=8>State Vector</th>        <th class=\"col_heading level0 col9\" colspan=3>Derived from the State Vector (the closer to zero, the better)</th>    </tr>    <tr>        <th class=\"blank level1\" ></th>        <th class=\"col_heading level1 col0\" ></th>        <th class=\"col_heading level1 col1\" colspan=2>Coordinate</th>        <th class=\"col_heading level1 col3\" colspan=2>Velocity</th>        <th class=\"col_heading level1 col5\" colspan=2>Tilting</th>        <th class=\"col_heading level1 col7\" colspan=2>Ground contact</th>        <th class=\"col_heading level1 col9\" >Distance from landing pad</th>        <th class=\"col_heading level1 col10\" >Velocity</th>        <th class=\"col_heading level1 col11\" >Tilting Angle (absolute value)</th>    </tr>    <tr>        <th class=\"blank level2\" ></th>        <th class=\"col_heading level2 col0\" ></th>        <th class=\"col_heading level2 col1\" >X (Horizontal)</th>        <th class=\"col_heading level2 col2\" >Y (Vertical)</th>        <th class=\"col_heading level2 col3\" >X (Horizontal)</th>        <th class=\"col_heading level2 col4\" >Y (Vertical)</th>        <th class=\"col_heading level2 col5\" >Angle</th>        <th class=\"col_heading level2 col6\" >Angular Velocity</th>        <th class=\"col_heading level2 col7\" >Left Leg?</th>        <th class=\"col_heading level2 col8\" >Right Leg?</th>        <th class=\"col_heading level2 col9\" ></th>        <th class=\"col_heading level2 col10\" ></th>        <th class=\"col_heading level2 col11\" ></th>    </tr></thead><tbody>\n",
       "                <tr>\n",
       "                        <th id=\"T_477d1e02_40ee_11ef_bd5d_0242ac120004level0_row0\" class=\"row_heading level0 row0\" >Current State</th>\n",
       "                        <td id=\"T_477d1e02_40ee_11ef_bd5d_0242ac120004row0_col0\" class=\"data row0 col0\" ></td>\n",
       "                        <td id=\"T_477d1e02_40ee_11ef_bd5d_0242ac120004row0_col1\" class=\"data row0 col1\" >0.001919</td>\n",
       "                        <td id=\"T_477d1e02_40ee_11ef_bd5d_0242ac120004row0_col2\" class=\"data row0 col2\" >1.422301</td>\n",
       "                        <td id=\"T_477d1e02_40ee_11ef_bd5d_0242ac120004row0_col3\" class=\"data row0 col3\" >0.194400</td>\n",
       "                        <td id=\"T_477d1e02_40ee_11ef_bd5d_0242ac120004row0_col4\" class=\"data row0 col4\" >0.505814</td>\n",
       "                        <td id=\"T_477d1e02_40ee_11ef_bd5d_0242ac120004row0_col5\" class=\"data row0 col5\" >-0.002217</td>\n",
       "                        <td id=\"T_477d1e02_40ee_11ef_bd5d_0242ac120004row0_col6\" class=\"data row0 col6\" >-0.044034</td>\n",
       "                        <td id=\"T_477d1e02_40ee_11ef_bd5d_0242ac120004row0_col7\" class=\"data row0 col7\" >False</td>\n",
       "                        <td id=\"T_477d1e02_40ee_11ef_bd5d_0242ac120004row0_col8\" class=\"data row0 col8\" >False</td>\n",
       "                        <td id=\"T_477d1e02_40ee_11ef_bd5d_0242ac120004row0_col9\" class=\"data row0 col9\" >1.422302</td>\n",
       "                        <td id=\"T_477d1e02_40ee_11ef_bd5d_0242ac120004row0_col10\" class=\"data row0 col10\" >0.541885</td>\n",
       "                        <td id=\"T_477d1e02_40ee_11ef_bd5d_0242ac120004row0_col11\" class=\"data row0 col11\" >0.002217</td>\n",
       "            </tr>\n",
       "            <tr>\n",
       "                        <th id=\"T_477d1e02_40ee_11ef_bd5d_0242ac120004level0_row1\" class=\"row_heading level0 row1\" >Action</th>\n",
       "                        <td id=\"T_477d1e02_40ee_11ef_bd5d_0242ac120004row1_col0\" class=\"data row1 col0\" >Do nothing</td>\n",
       "                        <td id=\"T_477d1e02_40ee_11ef_bd5d_0242ac120004row1_col1\" class=\"data row1 col1\" ></td>\n",
       "                        <td id=\"T_477d1e02_40ee_11ef_bd5d_0242ac120004row1_col2\" class=\"data row1 col2\" ></td>\n",
       "                        <td id=\"T_477d1e02_40ee_11ef_bd5d_0242ac120004row1_col3\" class=\"data row1 col3\" ></td>\n",
       "                        <td id=\"T_477d1e02_40ee_11ef_bd5d_0242ac120004row1_col4\" class=\"data row1 col4\" ></td>\n",
       "                        <td id=\"T_477d1e02_40ee_11ef_bd5d_0242ac120004row1_col5\" class=\"data row1 col5\" ></td>\n",
       "                        <td id=\"T_477d1e02_40ee_11ef_bd5d_0242ac120004row1_col6\" class=\"data row1 col6\" ></td>\n",
       "                        <td id=\"T_477d1e02_40ee_11ef_bd5d_0242ac120004row1_col7\" class=\"data row1 col7\" ></td>\n",
       "                        <td id=\"T_477d1e02_40ee_11ef_bd5d_0242ac120004row1_col8\" class=\"data row1 col8\" ></td>\n",
       "                        <td id=\"T_477d1e02_40ee_11ef_bd5d_0242ac120004row1_col9\" class=\"data row1 col9\" ></td>\n",
       "                        <td id=\"T_477d1e02_40ee_11ef_bd5d_0242ac120004row1_col10\" class=\"data row1 col10\" ></td>\n",
       "                        <td id=\"T_477d1e02_40ee_11ef_bd5d_0242ac120004row1_col11\" class=\"data row1 col11\" ></td>\n",
       "            </tr>\n",
       "            <tr>\n",
       "                        <th id=\"T_477d1e02_40ee_11ef_bd5d_0242ac120004level0_row2\" class=\"row_heading level0 row2\" >Next State</th>\n",
       "                        <td id=\"T_477d1e02_40ee_11ef_bd5d_0242ac120004row2_col0\" class=\"data row2 col0\" ></td>\n",
       "                        <td id=\"T_477d1e02_40ee_11ef_bd5d_0242ac120004row2_col1\" class=\"data row2 col1\" >0.003839</td>\n",
       "                        <td id=\"T_477d1e02_40ee_11ef_bd5d_0242ac120004row2_col2\" class=\"data row2 col2\" >1.433103</td>\n",
       "                        <td id=\"T_477d1e02_40ee_11ef_bd5d_0242ac120004row2_col3\" class=\"data row2 col3\" >0.194137</td>\n",
       "                        <td id=\"T_477d1e02_40ee_11ef_bd5d_0242ac120004row2_col4\" class=\"data row2 col4\" >0.480094</td>\n",
       "                        <td id=\"T_477d1e02_40ee_11ef_bd5d_0242ac120004row2_col5\" class=\"data row2 col5\" >-0.004393</td>\n",
       "                        <td id=\"T_477d1e02_40ee_11ef_bd5d_0242ac120004row2_col6\" class=\"data row2 col6\" >-0.043519</td>\n",
       "                        <td id=\"T_477d1e02_40ee_11ef_bd5d_0242ac120004row2_col7\" class=\"data row2 col7\" >False</td>\n",
       "                        <td id=\"T_477d1e02_40ee_11ef_bd5d_0242ac120004row2_col8\" class=\"data row2 col8\" >False</td>\n",
       "                        <td id=\"T_477d1e02_40ee_11ef_bd5d_0242ac120004row2_col9\" class=\"data row2 col9\" >1.433108</td>\n",
       "                        <td id=\"T_477d1e02_40ee_11ef_bd5d_0242ac120004row2_col10\" class=\"data row2 col10\" >0.517860</td>\n",
       "                        <td id=\"T_477d1e02_40ee_11ef_bd5d_0242ac120004row2_col11\" class=\"data row2 col11\" >0.004393</td>\n",
       "            </tr>\n",
       "            <tr>\n",
       "                        <th id=\"T_477d1e02_40ee_11ef_bd5d_0242ac120004level0_row3\" class=\"row_heading level0 row3\" >Reward</th>\n",
       "                        <td id=\"T_477d1e02_40ee_11ef_bd5d_0242ac120004row3_col0\" class=\"data row3 col0\" >1.104326</td>\n",
       "                        <td id=\"T_477d1e02_40ee_11ef_bd5d_0242ac120004row3_col1\" class=\"data row3 col1\" ></td>\n",
       "                        <td id=\"T_477d1e02_40ee_11ef_bd5d_0242ac120004row3_col2\" class=\"data row3 col2\" ></td>\n",
       "                        <td id=\"T_477d1e02_40ee_11ef_bd5d_0242ac120004row3_col3\" class=\"data row3 col3\" ></td>\n",
       "                        <td id=\"T_477d1e02_40ee_11ef_bd5d_0242ac120004row3_col4\" class=\"data row3 col4\" ></td>\n",
       "                        <td id=\"T_477d1e02_40ee_11ef_bd5d_0242ac120004row3_col5\" class=\"data row3 col5\" ></td>\n",
       "                        <td id=\"T_477d1e02_40ee_11ef_bd5d_0242ac120004row3_col6\" class=\"data row3 col6\" ></td>\n",
       "                        <td id=\"T_477d1e02_40ee_11ef_bd5d_0242ac120004row3_col7\" class=\"data row3 col7\" ></td>\n",
       "                        <td id=\"T_477d1e02_40ee_11ef_bd5d_0242ac120004row3_col8\" class=\"data row3 col8\" ></td>\n",
       "                        <td id=\"T_477d1e02_40ee_11ef_bd5d_0242ac120004row3_col9\" class=\"data row3 col9\" ></td>\n",
       "                        <td id=\"T_477d1e02_40ee_11ef_bd5d_0242ac120004row3_col10\" class=\"data row3 col10\" ></td>\n",
       "                        <td id=\"T_477d1e02_40ee_11ef_bd5d_0242ac120004row3_col11\" class=\"data row3 col11\" ></td>\n",
       "            </tr>\n",
       "            <tr>\n",
       "                        <th id=\"T_477d1e02_40ee_11ef_bd5d_0242ac120004level0_row4\" class=\"row_heading level0 row4\" >Episode Terminated</th>\n",
       "                        <td id=\"T_477d1e02_40ee_11ef_bd5d_0242ac120004row4_col0\" class=\"data row4 col0\" >False</td>\n",
       "                        <td id=\"T_477d1e02_40ee_11ef_bd5d_0242ac120004row4_col1\" class=\"data row4 col1\" ></td>\n",
       "                        <td id=\"T_477d1e02_40ee_11ef_bd5d_0242ac120004row4_col2\" class=\"data row4 col2\" ></td>\n",
       "                        <td id=\"T_477d1e02_40ee_11ef_bd5d_0242ac120004row4_col3\" class=\"data row4 col3\" ></td>\n",
       "                        <td id=\"T_477d1e02_40ee_11ef_bd5d_0242ac120004row4_col4\" class=\"data row4 col4\" ></td>\n",
       "                        <td id=\"T_477d1e02_40ee_11ef_bd5d_0242ac120004row4_col5\" class=\"data row4 col5\" ></td>\n",
       "                        <td id=\"T_477d1e02_40ee_11ef_bd5d_0242ac120004row4_col6\" class=\"data row4 col6\" ></td>\n",
       "                        <td id=\"T_477d1e02_40ee_11ef_bd5d_0242ac120004row4_col7\" class=\"data row4 col7\" ></td>\n",
       "                        <td id=\"T_477d1e02_40ee_11ef_bd5d_0242ac120004row4_col8\" class=\"data row4 col8\" ></td>\n",
       "                        <td id=\"T_477d1e02_40ee_11ef_bd5d_0242ac120004row4_col9\" class=\"data row4 col9\" ></td>\n",
       "                        <td id=\"T_477d1e02_40ee_11ef_bd5d_0242ac120004row4_col10\" class=\"data row4 col10\" ></td>\n",
       "                        <td id=\"T_477d1e02_40ee_11ef_bd5d_0242ac120004row4_col11\" class=\"data row4 col11\" ></td>\n",
       "            </tr>\n",
       "    </tbody></table>"
      ],
      "text/plain": [
       "<pandas.io.formats.style.Styler at 0x701f7ce45c90>"
      ]
     },
     "metadata": {},
     "output_type": "display_data"
    }
   ],
   "source": [
    "# Select an action\n",
    "action = 0\n",
    "\n",
    "# Run a single time step of the environment's dynamics with the given action.\n",
    "next_state, reward, done, _ = env.step(action)\n",
    "\n",
    "# Display table with values.\n",
    "utils.display_table(current_state, action, next_state, reward, done)\n",
    "\n",
    "# Replace the `current_state` with the state after the action is taken\n",
    "current_state = next_state"
   ]
  },
  {
   "cell_type": "markdown",
   "metadata": {},
   "source": [
    "In practice, when we train the agent we use a loop to allow the agent to take many consecutive actions during an episode."
   ]
  },
  {
   "cell_type": "markdown",
   "metadata": {},
   "source": [
    "<a name=\"6\"></a>\n",
    "## 6 - Deep Q-Learning\n",
    "\n",
    "In cases where both the state and action space are discrete we can estimate the action-value function iteratively by using the Bellman equation:\n",
    "\n",
    "$$\n",
    "Q_{i+1}(s,a) = R + \\gamma \\max_{a'}Q_i(s',a')\n",
    "$$\n",
    "\n",
    "This iterative method converges to the optimal action-value function $Q^*(s,a)$ as $i\\to\\infty$. This means that the agent just needs to gradually explore the state-action space and keep updating the estimate of $Q(s,a)$ until it converges to the optimal action-value function $Q^*(s,a)$. However, in cases where the state space is continuous it becomes practically impossible to explore the entire state-action space. Consequently, this also makes it practically impossible to gradually estimate $Q(s,a)$ until it converges to $Q^*(s,a)$.\n",
    "\n",
    "In the Deep $Q$-Learning, we solve this problem by using a neural network to estimate the action-value function $Q(s,a)\\approx Q^*(s,a)$. We call this neural network a $Q$-Network and it can be trained by adjusting its weights at each iteration to minimize the mean-squared error in the Bellman equation.\n",
    "\n",
    "Unfortunately, using neural networks in reinforcement learning to estimate action-value functions has proven to be highly unstable. Luckily, there's a couple of techniques that can be employed to avoid instabilities. These techniques consist of using a ***Target Network*** and ***Experience Replay***. We will explore these two techniques in the following sections."
   ]
  },
  {
   "cell_type": "markdown",
   "metadata": {},
   "source": [
    "<a name=\"6.1\"></a>\n",
    "### 6.1 Target Network\n",
    "\n",
    "We can train the $Q$-Network by adjusting it's weights at each iteration to minimize the mean-squared error in the Bellman equation, where the target values are given by:\n",
    "\n",
    "$$\n",
    "y = R + \\gamma \\max_{a'}Q(s',a';w)\n",
    "$$\n",
    "\n",
    "where $w$ are the weights of the $Q$-Network. This means that we are adjusting the weights $w$ at each iteration to minimize the following error:\n",
    "\n",
    "$$\n",
    "\\overbrace{\\underbrace{R + \\gamma \\max_{a'}Q(s',a'; w)}_{\\rm {y~target}} - Q(s,a;w)}^{\\rm {Error}}\n",
    "$$\n",
    "\n",
    "Notice that this forms a problem because the $y$ target is changing on every iteration. Having a constantly moving target can lead to oscillations and instabilities. To avoid this, we can create\n",
    "a separate neural network for generating the $y$ targets. We call this separate neural network the **target $\\hat Q$-Network** and it will have the same architecture as the original $Q$-Network. By using the target $\\hat Q$-Network, the above error becomes:\n",
    "\n",
    "$$\n",
    "\\overbrace{\\underbrace{R + \\gamma \\max_{a'}\\hat{Q}(s',a'; w^-)}_{\\rm {y~target}} - Q(s,a;w)}^{\\rm {Error}}\n",
    "$$\n",
    "\n",
    "where $w^-$ and $w$ are the weights of the target $\\hat Q$-Network and $Q$-Network, respectively.\n",
    "\n",
    "In practice, we will use the following algorithm: every $C$ time steps we will use the $\\hat Q$-Network to generate the $y$ targets and update the weights of the target $\\hat Q$-Network using the weights of the $Q$-Network. We will update the weights $w^-$ of the the target $\\hat Q$-Network using a **soft update**. This means that we will update the weights $w^-$ using the following rule:\n",
    " \n",
    "$$\n",
    "w^-\\leftarrow \\tau w + (1 - \\tau) w^-\n",
    "$$\n",
    "\n",
    "where $\\tau\\ll 1$. By using the soft update, we are ensuring that the target values, $y$, change slowly, which greatly improves the stability of our learning algorithm."
   ]
  },
  {
   "cell_type": "markdown",
   "metadata": {},
   "source": [
    "<a name=\"ex01\"></a>\n",
    "### Exercise 1\n",
    "\n",
    "In this exercise you will create the $Q$ and target $\\hat Q$ networks and set the optimizer. Remember that the Deep $Q$-Network (DQN) is a neural network that approximates the action-value function $Q(s,a)\\approx Q^*(s,a)$. It does this by learning how to map states to $Q$ values.\n",
    "\n",
    "To solve the Lunar Lander environment, we are going to employ a DQN with the following architecture:\n",
    "\n",
    "* An `Input` layer that takes `state_size` as input.\n",
    "\n",
    "* A `Dense` layer with `64` units and a `relu` activation function.\n",
    "\n",
    "* A `Dense` layer with `64` units and a `relu` activation function.\n",
    "\n",
    "* A `Dense` layer with `num_actions` units and a `linear` activation function. This will be the output layer of our network.\n",
    "\n",
    "\n",
    "In the cell below you should create the $Q$-Network and the target $\\hat Q$-Network using the model architecture described above. Remember that both the $Q$-Network and the target $\\hat Q$-Network have the same architecture.\n",
    "\n",
    "Lastly, you should set `Adam` as the optimizer with a learning rate equal to `ALPHA`. Recall that `ALPHA` was defined in the [Hyperparameters](#2) section. We should note that for this exercise you should use the already imported packages:\n",
    "```python\n",
    "from tensorflow.keras.layers import Dense, Input\n",
    "from tensorflow.keras.optimizers import Adam\n",
    "```"
   ]
  },
  {
   "cell_type": "code",
   "execution_count": 14,
   "metadata": {
    "deletable": false
   },
   "outputs": [],
   "source": [
    "# UNQ_C1\n",
    "# GRADED CELL\n",
    "\n",
    "# Create the Q-Network\n",
    "q_network = Sequential([\n",
    "    ### START CODE HERE ### \n",
    "    \n",
    "    Input(state_size),\n",
    "    Dense(units = 64, activation = 'relu'),\n",
    "    Dense(units = 64, activation = 'relu'),\n",
    "    Dense(units = num_actions, activation = 'linear')    \n",
    "    \n",
    "    ### END CODE HERE ### \n",
    "    ])\n",
    "\n",
    "# Create the target Q^-Network\n",
    "target_q_network = Sequential([\n",
    "    ### START CODE HERE ### \n",
    "    \n",
    "    Input(state_size),\n",
    "    Dense(units = 64, activation = 'relu'), \n",
    "    Dense(units = 64, activation = 'relu'), \n",
    "    Dense(units = num_actions, activation = 'linear')\n",
    "    \n",
    "    ### END CODE HERE ###\n",
    "    ])\n",
    "\n",
    "### START CODE HERE ### \n",
    "optimizer = Adam(ALPHA)\n",
    "### END CODE HERE ###"
   ]
  },
  {
   "cell_type": "code",
   "execution_count": 15,
   "metadata": {
    "deletable": false,
    "editable": false
   },
   "outputs": [
    {
     "name": "stdout",
     "output_type": "stream",
     "text": [
      "\u001b[92mAll tests passed!\n",
      "\u001b[92mAll tests passed!\n",
      "\u001b[92mAll tests passed!\n"
     ]
    }
   ],
   "source": [
    "# UNIT TEST\n",
    "from public_tests import *\n",
    "\n",
    "test_network(q_network)\n",
    "test_network(target_q_network)\n",
    "test_optimizer(optimizer, ALPHA) "
   ]
  },
  {
   "cell_type": "markdown",
   "metadata": {},
   "source": [
    "<details>\n",
    "  <summary><font size=\"3\" color=\"darkgreen\"><b>Click for hints</b></font></summary>\n",
    "    \n",
    "```python\n",
    "# Create the Q-Network\n",
    "q_network = Sequential([\n",
    "    Input(shape=state_size),                      \n",
    "    Dense(units=64, activation='relu'),            \n",
    "    Dense(units=64, activation='relu'),            \n",
    "    Dense(units=num_actions, activation='linear'),\n",
    "    ])\n",
    "\n",
    "# Create the target Q^-Network\n",
    "target_q_network = Sequential([\n",
    "    Input(shape=state_size),                       \n",
    "    Dense(units=64, activation='relu'),            \n",
    "    Dense(units=64, activation='relu'),            \n",
    "    Dense(units=num_actions, activation='linear'), \n",
    "    ])\n",
    "\n",
    "optimizer = Adam(learning_rate=ALPHA)                                  \n",
    "``` "
   ]
  },
  {
   "cell_type": "markdown",
   "metadata": {},
   "source": [
    "<a name=\"6.2\"></a>\n",
    "### 6.2 Experience Replay\n",
    "\n",
    "When an agent interacts with the environment, the states, actions, and rewards the agent experiences are sequential by nature. If the agent tries to learn from these consecutive experiences it can run into problems due to the strong correlations between them. To avoid this, we employ a technique known as **Experience Replay** to generate uncorrelated experiences for training our agent. Experience replay consists of storing the agent's experiences (i.e the states, actions, and rewards the agent receives) in a memory buffer and then sampling a random mini-batch of experiences from the buffer to do the learning. The experience tuples $(S_t, A_t, R_t, S_{t+1})$ will be added to the memory buffer at each time step as the agent interacts with the environment.\n",
    "\n",
    "For convenience, we will store the experiences as named tuples."
   ]
  },
  {
   "cell_type": "code",
   "execution_count": 16,
   "metadata": {
    "deletable": false,
    "editable": false
   },
   "outputs": [],
   "source": [
    "# Store experiences as named tuples\n",
    "experience = namedtuple(\"Experience\", field_names=[\"state\", \"action\", \"reward\", \"next_state\", \"done\"])"
   ]
  },
  {
   "cell_type": "markdown",
   "metadata": {},
   "source": [
    "By using experience replay we avoid problematic correlations, oscillations and instabilities. In addition, experience replay also allows the agent to potentially use the same experience in multiple weight updates, which increases data efficiency."
   ]
  },
  {
   "cell_type": "markdown",
   "metadata": {},
   "source": [
    "<a name=\"7\"></a>\n",
    "## 7 - Deep Q-Learning Algorithm with Experience Replay\n",
    "\n",
    "Now that we know all the techniques that we are going to use, we can put them together to arrive at the Deep Q-Learning Algorithm With Experience Replay.\n",
    "<br>\n",
    "<br>\n",
    "<figure>\n",
    "  <img src = \"images/deep_q_algorithm.png\" width = 90% style = \"border: thin silver solid; padding: 0px\">\n",
    "      <figcaption style = \"text-align: center; font-style: italic\">Fig 3. Deep Q-Learning with Experience Replay.</figcaption>\n",
    "</figure>"
   ]
  },
  {
   "cell_type": "markdown",
   "metadata": {},
   "source": [
    "<a name=\"ex02\"></a>\n",
    "### Exercise 2\n",
    "\n",
    "In this exercise you will implement line ***12*** of the algorithm outlined in *Fig 3* above and you will also compute the loss between the $y$ targets and the $Q(s,a)$ values. In the cell below, complete the `compute_loss` function by setting the $y$ targets equal to:\n",
    "\n",
    "$$\n",
    "\\begin{equation}\n",
    "    y_j =\n",
    "    \\begin{cases}\n",
    "      R_j & \\text{if episode terminates at step  } j+1\\\\\n",
    "      R_j + \\gamma \\max_{a'}\\hat{Q}(s_{j+1},a') & \\text{otherwise}\\\\\n",
    "    \\end{cases}       \n",
    "\\end{equation}\n",
    "$$\n",
    "\n",
    "Here are a couple of things to note:\n",
    "\n",
    "* The `compute_loss` function takes in a mini-batch of experience tuples. This mini-batch of experience tuples is unpacked to extract the `states`, `actions`, `rewards`, `next_states`, and `done_vals`. You should keep in mind that these variables are *TensorFlow Tensors* whose size will depend on the mini-batch size. For example, if the mini-batch size is `64` then both `rewards` and `done_vals` will be TensorFlow Tensors with `64` elements.\n",
    "\n",
    "\n",
    "* Using `if/else` statements to set the $y$ targets will not work when the variables are tensors with many elements. However, notice that you can use the `done_vals` to implement the above in a single line of code. To do this, recall that the `done` variable is a Boolean variable that takes the value `True` when an episode terminates at step $j+1$ and it is `False` otherwise. Taking into account that a Boolean value of `True` has the numerical value of `1` and a Boolean value of `False` has the numerical value of `0`, you can use the factor `(1 - done_vals)` to implement the above in a single line of code. Here's a hint: notice that `(1 - done_vals)` has a value of `0` when `done_vals` is `True` and a value of `1` when `done_vals` is `False`. \n",
    "\n",
    "Lastly, compute the loss by calculating the Mean-Squared Error (`MSE`) between the `y_targets` and the `q_values`. To calculate the mean-squared error you should use the already imported package `MSE`:\n",
    "```python\n",
    "from tensorflow.keras.losses import MSE\n",
    "```"
   ]
  },
  {
   "cell_type": "code",
   "execution_count": 21,
   "metadata": {
    "deletable": false
   },
   "outputs": [],
   "source": [
    "# UNQ_C2\n",
    "# GRADED FUNCTION: calculate_loss\n",
    "\n",
    "def compute_loss(experiences, gamma, q_network, target_q_network):\n",
    "    \"\"\" \n",
    "    Calculates the loss.\n",
    "    \n",
    "    Args:\n",
    "      experiences: (tuple) tuple of [\"state\", \"action\", \"reward\", \"next_state\", \"done\"] namedtuples\n",
    "      gamma: (float) The discount factor.\n",
    "      q_network: (tf.keras.Sequential) Keras model for predicting the q_values\n",
    "      target_q_network: (tf.keras.Sequential) Keras model for predicting the targets\n",
    "          \n",
    "    Returns:\n",
    "      loss: (TensorFlow Tensor(shape=(0,), dtype=int32)) the Mean-Squared Error between\n",
    "            the y targets and the Q(s,a) values.\n",
    "    \"\"\"\n",
    "\n",
    "    # Unpack the mini-batch of experience tuples\n",
    "    states, actions, rewards, next_states, done_vals = experiences\n",
    "    \n",
    "    # Compute max Q^(s,a)\n",
    "    max_qsa = tf.reduce_max(target_q_network(next_states), axis=-1)\n",
    "    \n",
    "    # Set y = R if episode terminates, otherwise set y = R + γ max Q^(s,a).\n",
    "    ### START CODE HERE ### \n",
    "    y_targets = (rewards + ((1 - done_vals) * max_qsa * gamma))\n",
    "    ### END CODE HERE ###\n",
    "    \n",
    "    # Get the q_values and reshape to match y_targets\n",
    "    q_values = q_network(states)\n",
    "    q_values = tf.gather_nd(q_values, tf.stack([tf.range(q_values.shape[0]),\n",
    "                                                tf.cast(actions, tf.int32)], axis=1))\n",
    "        \n",
    "    # Compute the loss\n",
    "    ### START CODE HERE ### \n",
    "    loss = MSE(q_values, y_targets)\n",
    "    ### END CODE HERE ### \n",
    "    \n",
    "    return loss"
   ]
  },
  {
   "cell_type": "code",
   "execution_count": 22,
   "metadata": {
    "deletable": false,
    "editable": false
   },
   "outputs": [
    {
     "name": "stdout",
     "output_type": "stream",
     "text": [
      "\u001b[92mAll tests passed!\n"
     ]
    }
   ],
   "source": [
    "# UNIT TEST    \n",
    "test_compute_loss(compute_loss)"
   ]
  },
  {
   "cell_type": "markdown",
   "metadata": {},
   "source": [
    "<details>\n",
    "  <summary><font size=\"3\" color=\"darkgreen\"><b>Click for hints</b></font></summary>\n",
    "    \n",
    "```python\n",
    "def compute_loss(experiences, gamma, q_network, target_q_network):\n",
    "    \"\"\" \n",
    "    Calculates the loss.\n",
    "    \n",
    "    Args:\n",
    "      experiences: (tuple) tuple of [\"state\", \"action\", \"reward\", \"next_state\", \"done\"] namedtuples\n",
    "      gamma: (float) The discount factor.\n",
    "      q_network: (tf.keras.Sequential) Keras model for predicting the q_values\n",
    "      target_q_network: (tf.keras.Sequential) Keras model for predicting the targets\n",
    "          \n",
    "    Returns:\n",
    "      loss: (TensorFlow Tensor(shape=(0,), dtype=int32)) the Mean-Squared Error between\n",
    "            the y targets and the Q(s,a) values.\n",
    "    \"\"\"\n",
    "\n",
    "    \n",
    "    # Unpack the mini-batch of experience tuples\n",
    "    states, actions, rewards, next_states, done_vals = experiences\n",
    "    \n",
    "    # Compute max Q^(s,a)\n",
    "    max_qsa = tf.reduce_max(target_q_network(next_states), axis=-1)\n",
    "    \n",
    "    # Set y = R if episode terminates, otherwise set y = R + γ max Q^(s,a).\n",
    "    y_targets = rewards + (gamma * max_qsa * (1 - done_vals))\n",
    "    \n",
    "    # Get the q_values\n",
    "    q_values = q_network(states)\n",
    "    q_values = tf.gather_nd(q_values, tf.stack([tf.range(q_values.shape[0]),\n",
    "                                                tf.cast(actions, tf.int32)], axis=1))\n",
    "    \n",
    "    # Calculate the loss\n",
    "    loss = MSE(y_targets, q_values)\n",
    "    \n",
    "    return loss\n",
    "\n",
    "``` \n",
    "    "
   ]
  },
  {
   "cell_type": "markdown",
   "metadata": {},
   "source": [
    "<a name=\"8\"></a>\n",
    "## 8 - Update the Network Weights\n",
    "\n",
    "We will use the `agent_learn` function below to implement lines ***12 -14*** of the algorithm outlined in [Fig 3](#7). The `agent_learn` function will update the weights of the $Q$ and target $\\hat Q$ networks using a custom training loop. Because we are using a custom training loop we need to retrieve the gradients via a `tf.GradientTape` instance, and then call `optimizer.apply_gradients()` to update the weights of our $Q$-Network. Note that we are also using the `@tf.function` decorator to increase performance. Without this decorator our training will take twice as long. If you would like to know more about how to increase performance with `@tf.function` take a look at the [TensorFlow documentation](https://www.tensorflow.org/guide/function).\n",
    "\n",
    "The last line of this function updates the weights of the target $\\hat Q$-Network using a [soft update](#6.1). If you want to know how this is implemented in code we encourage you to take a look at the `utils.update_target_network` function in the `utils` module."
   ]
  },
  {
   "cell_type": "code",
   "execution_count": 23,
   "metadata": {
    "deletable": false,
    "editable": false
   },
   "outputs": [],
   "source": [
    "@tf.function\n",
    "def agent_learn(experiences, gamma):\n",
    "    \"\"\"\n",
    "    Updates the weights of the Q networks.\n",
    "    \n",
    "    Args:\n",
    "      experiences: (tuple) tuple of [\"state\", \"action\", \"reward\", \"next_state\", \"done\"] namedtuples\n",
    "      gamma: (float) The discount factor.\n",
    "    \n",
    "    \"\"\"\n",
    "    \n",
    "    # Calculate the loss\n",
    "    with tf.GradientTape() as tape:\n",
    "        loss = compute_loss(experiences, gamma, q_network, target_q_network)\n",
    "\n",
    "    # Get the gradients of the loss with respect to the weights.\n",
    "    gradients = tape.gradient(loss, q_network.trainable_variables)\n",
    "    \n",
    "    # Update the weights of the q_network.\n",
    "    optimizer.apply_gradients(zip(gradients, q_network.trainable_variables))\n",
    "\n",
    "    # update the weights of target q_network\n",
    "    utils.update_target_network(q_network, target_q_network)"
   ]
  },
  {
   "cell_type": "markdown",
   "metadata": {},
   "source": [
    "<a name=\"9\"></a>\n",
    "## 9 - Train the Agent\n",
    "\n",
    "We are now ready to train our agent to solve the Lunar Lander environment. In the cell below we will implement the algorithm in [Fig 3](#7) line by line (please note that we have included the same algorithm below for easy reference. This will prevent you from scrolling up and down the notebook):\n",
    "\n",
    "* **Line 1**: We initialize the `memory_buffer` with a capacity of $N =$ `MEMORY_SIZE`. Notice that we are using a `deque` as the data structure for our `memory_buffer`.\n",
    "\n",
    "\n",
    "* **Line 2**: We skip this line since we already initialized the `q_network` in [Exercise 1](#ex01).\n",
    "\n",
    "\n",
    "* **Line 3**: We initialize the `target_q_network` by setting its weights to be equal to those of the `q_network`.\n",
    "\n",
    "\n",
    "* **Line 4**: We start the outer loop. Notice that we have set $M =$ `num_episodes = 2000`. This number is reasonable because the agent should be able to solve the Lunar Lander environment in less than `2000` episodes using this notebook's default parameters.\n",
    "\n",
    "\n",
    "* **Line 5**: We use the `.reset()` method to reset the environment to the initial state and get the initial state.\n",
    "\n",
    "\n",
    "* **Line 6**: We start the inner loop. Notice that we have set $T =$ `max_num_timesteps = 1000`. This means that the episode will automatically terminate if the episode hasn't terminated after `1000` time steps.\n",
    "\n",
    "\n",
    "* **Line 7**: The agent observes the current `state` and chooses an `action` using an $\\epsilon$-greedy policy. Our agent starts out using a value of $\\epsilon =$ `epsilon = 1` which yields an $\\epsilon$-greedy policy that is equivalent to the equiprobable random policy. This means that at the beginning of our training, the agent is just going to take random actions regardless of the observed `state`. As training progresses we will decrease the value of $\\epsilon$ slowly towards a minimum value using a given $\\epsilon$-decay rate. We want this minimum value to be close to zero because a value of $\\epsilon = 0$ will yield an $\\epsilon$-greedy policy that is equivalent to the greedy policy. This means that towards the end of training, the agent will lean towards selecting the `action` that it believes (based on its past experiences) will maximize $Q(s,a)$. We will set the minimum $\\epsilon$ value to be `0.01` and not exactly 0 because we always want to keep a little bit of exploration during training. If you want to know how this is implemented in code we encourage you to take a look at the `utils.get_action` function in the `utils` module.\n",
    "\n",
    "\n",
    "* **Line 8**: We use the `.step()` method to take the given `action` in the environment and get the `reward` and the `next_state`. \n",
    "\n",
    "\n",
    "* **Line 9**: We store the `experience(state, action, reward, next_state, done)` tuple in our `memory_buffer`. Notice that we also store the `done` variable so that we can keep track of when an episode terminates. This allowed us to set the $y$ targets in [Exercise 2](#ex02).\n",
    "\n",
    "\n",
    "* **Line 10**: We check if the conditions are met to perform a learning update. We do this by using our custom `utils.check_update_conditions` function. This function checks if $C =$ `NUM_STEPS_FOR_UPDATE = 4` time steps have occured and if our `memory_buffer` has enough experience tuples to fill a mini-batch. For example, if the mini-batch size is `64`, then our `memory_buffer` should have more than `64` experience tuples in order to pass the latter condition. If the conditions are met, then the `utils.check_update_conditions` function will return a value of `True`, otherwise it will return a value of `False`.\n",
    "\n",
    "\n",
    "* **Lines 11 - 14**: If the `update` variable is `True` then we perform a learning update. The learning update consists of sampling a random mini-batch of experience tuples from our `memory_buffer`, setting the $y$ targets, performing gradient descent, and updating the weights of the networks. We will use the `agent_learn` function we defined in [Section 8](#8) to perform the latter 3.\n",
    "\n",
    "\n",
    "* **Line 15**: At the end of each iteration of the inner loop we set `next_state` as our new `state` so that the loop can start again from this new state. In addition, we check if the episode has reached a terminal state (i.e we check if `done = True`). If a terminal state has been reached, then we break out of the inner loop.\n",
    "\n",
    "\n",
    "* **Line 16**: At the end of each iteration of the outer loop we update the value of $\\epsilon$, and check if the environment has been solved. We consider that the environment has been solved if the agent receives an average of `200` points in the last `100` episodes. If the environment has not been solved we continue the outer loop and start a new episode.\n",
    "\n",
    "Finally, we wanted to note that we have included some extra variables to keep track of the total number of points the agent received in each episode. This will help us determine if the agent has solved the environment and it will also allow us to see how our agent performed during training. We also use the `time` module to measure how long the training takes. \n",
    "\n",
    "<br>\n",
    "<br>\n",
    "<figure>\n",
    "  <img src = \"images/deep_q_algorithm.png\" width = 90% style = \"border: thin silver solid; padding: 0px\">\n",
    "      <figcaption style = \"text-align: center; font-style: italic\">Fig 4. Deep Q-Learning with Experience Replay.</figcaption>\n",
    "</figure>\n",
    "<br>\n",
    "\n",
    "**Note:** With this notebook's default parameters, the following cell takes between 10 to 15 minutes to run. "
   ]
  },
  {
   "cell_type": "code",
   "execution_count": 27,
   "metadata": {
    "deletable": false,
    "editable": false
   },
   "outputs": [
    {
     "name": "stdout",
     "output_type": "stream",
     "text": [
      "Episode 100 | Total point average of the last 100 episodes: -148.02\n",
      "Episode 200 | Total point average of the last 100 episodes: -87.168\n",
      "Episode 300 | Total point average of the last 100 episodes: -48.84\n",
      "Episode 400 | Total point average of the last 100 episodes: 86.000\n",
      "Episode 500 | Total point average of the last 100 episodes: 185.18\n",
      "Episode 600 | Total point average of the last 100 episodes: 160.97\n",
      "Episode 700 | Total point average of the last 100 episodes: 183.52\n",
      "Episode 782 | Total point average of the last 100 episodes: 200.05\n",
      "\n",
      "Environment solved in 782 episodes!\n",
      "\n",
      "Total Runtime: 964.97 s (16.08 min)\n"
     ]
    }
   ],
   "source": [
    "start = time.time()\n",
    "\n",
    "num_episodes = 2000\n",
    "max_num_timesteps = 1000\n",
    "\n",
    "total_point_history = []\n",
    "\n",
    "num_p_av = 100    # number of total points to use for averaging\n",
    "epsilon = 1.0     # initial ε value for ε-greedy policy\n",
    "\n",
    "# Create a memory buffer D with capacity N\n",
    "memory_buffer = deque(maxlen=MEMORY_SIZE)\n",
    "\n",
    "# Set the target network weights equal to the Q-Network weights\n",
    "target_q_network.set_weights(q_network.get_weights())\n",
    "\n",
    "for i in range(num_episodes):\n",
    "    \n",
    "    # Reset the environment to the initial state and get the initial state\n",
    "    state = env.reset()\n",
    "    total_points = 0\n",
    "    \n",
    "    for t in range(max_num_timesteps):\n",
    "        \n",
    "        # From the current state S choose an action A using an ε-greedy policy\n",
    "        state_qn = np.expand_dims(state, axis=0)  # state needs to be the right shape for the q_network\n",
    "        q_values = q_network(state_qn)\n",
    "        action = utils.get_action(q_values, epsilon)\n",
    "        \n",
    "        # Take action A and receive reward R and the next state S'\n",
    "        next_state, reward, done, _ = env.step(action)\n",
    "        \n",
    "        # Store experience tuple (S,A,R,S') in the memory buffer.\n",
    "        # We store the done variable as well for convenience.\n",
    "        memory_buffer.append(experience(state, action, reward, next_state, done))\n",
    "        \n",
    "        # Only update the network every NUM_STEPS_FOR_UPDATE time steps.\n",
    "        update = utils.check_update_conditions(t, NUM_STEPS_FOR_UPDATE, memory_buffer)\n",
    "        \n",
    "        if update:\n",
    "            # Sample random mini-batch of experience tuples (S,A,R,S') from D\n",
    "            experiences = utils.get_experiences(memory_buffer)\n",
    "            \n",
    "            # Set the y targets, perform a gradient descent step,\n",
    "            # and update the network weights.\n",
    "            agent_learn(experiences, GAMMA)\n",
    "        \n",
    "        state = next_state.copy()\n",
    "        total_points += reward\n",
    "        \n",
    "        if done:\n",
    "            break\n",
    "            \n",
    "    total_point_history.append(total_points)\n",
    "    av_latest_points = np.mean(total_point_history[-num_p_av:])\n",
    "    \n",
    "    # Update the ε value\n",
    "    epsilon = utils.get_new_eps(epsilon)\n",
    "\n",
    "    print(f\"\\rEpisode {i+1} | Total point average of the last {num_p_av} episodes: {av_latest_points:.2f}\", end=\"\")\n",
    "\n",
    "    if (i+1) % num_p_av == 0:\n",
    "        print(f\"\\rEpisode {i+1} | Total point average of the last {num_p_av} episodes: {av_latest_points:.2f}\")\n",
    "\n",
    "    # We will consider that the environment is solved if we get an\n",
    "    # average of 200 points in the last 100 episodes.\n",
    "    if av_latest_points >= 200.0:\n",
    "        print(f\"\\n\\nEnvironment solved in {i+1} episodes!\")\n",
    "        q_network.save('lunar_lander_model.h5')\n",
    "        break\n",
    "        \n",
    "tot_time = time.time() - start\n",
    "\n",
    "print(f\"\\nTotal Runtime: {tot_time:.2f} s ({(tot_time/60):.2f} min)\")"
   ]
  },
  {
   "cell_type": "markdown",
   "metadata": {},
   "source": [
    "We can plot the total point history along with the moving average to see how our agent improved during training. If you want to know about the different plotting options available in the `utils.plot_history` function we encourage you to take a look at the `utils` module."
   ]
  },
  {
   "cell_type": "code",
   "execution_count": 28,
   "metadata": {
    "deletable": false,
    "editable": false,
    "id": "E_EUXxurfe8m",
    "scrolled": false
   },
   "outputs": [
    {
     "data": {
      "image/png": "[encoded data removed]",
      "text/plain": [
       "<Figure size 720x504 with 1 Axes>"
      ]
     },
     "metadata": {},
     "output_type": "display_data"
    }
   ],
   "source": [
    "# Plot the total point history along with the moving average\n",
    "utils.plot_history(total_point_history)"
   ]
  },
  {
   "cell_type": "markdown",
   "metadata": {
    "id": "c_xwgaX5MnYt"
   },
   "source": [
    "<a name=\"10\"></a>\n",
    "## 10 - See the Trained Agent In Action\n",
    "\n",
    "Now that we have trained our agent, we can see it in action. We will use the `utils.create_video` function to create a video of our agent interacting with the environment using the trained $Q$-Network. The `utils.create_video` function uses the `imageio` library to create the video. This library produces some warnings that can be distracting, so, to suppress these warnings we run the code below."
   ]
  },
  {
   "cell_type": "code",
   "execution_count": 29,
   "metadata": {
    "deletable": false,
    "editable": false
   },
   "outputs": [],
   "source": [
    "# Suppress warnings from imageio\n",
    "import logging\n",
    "logging.getLogger().setLevel(logging.ERROR)"
   ]
  },
  {
   "cell_type": "markdown",
   "metadata": {},
   "source": [
    "In the cell below we create a video of our agent interacting with the Lunar Lander environment using the trained `q_network`. The video is saved to the `videos` folder with the given `filename`. We use the `utils.embed_mp4` function to embed the video in the Jupyter Notebook so that we can see it here directly without having to download it.\n",
    "\n",
    "We should note that since the lunar lander starts with a random initial force applied to its center of mass, every time you run the cell below you will see a different video. If the agent was trained properly, it should be able to land the lunar lander in the landing pad every time, regardless of the initial force applied to its center of mass."
   ]
  },
  {
   "cell_type": "code",
   "execution_count": 37,
   "metadata": {
    "deletable": false,
    "editable": false,
    "id": "3Ttb_zLeJKiG"
   },
   "outputs": [
    {
     "data": {
      "text/html": [
       "\n",
       "    <video width=\"840\" height=\"480\" controls>\n",
       "    <source src=\"data:video/mp4;base64,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\" type=\"video/mp4\">\n",
       "    Your browser does not support the video tag.\n",
       "    </video>"
      ],
      "text/plain": [
       "<IPython.core.display.HTML object>"
      ]
     },
     "execution_count": 37,
     "metadata": {},
     "output_type": "execute_result"
    }
   ],
   "source": [
    "filename = \"./videos/lunar_lander.mp4\"\n",
    "\n",
    "utils.create_video(filename, env, q_network)\n",
    "utils.embed_mp4(filename)"
   ]
  },
  {
   "cell_type": "markdown",
   "metadata": {},
   "source": [
    "<a name=\"11\"></a>\n",
    "## 11 - Congratulations!\n",
    "\n",
    "You have successfully used Deep Q-Learning with Experience Replay to train an agent to land a lunar lander safely on a landing pad on the surface of the moon. Congratulations!"
   ]
  },
  {
   "cell_type": "markdown",
   "metadata": {},
   "source": [
    "<a name=\"12\"></a>\n",
    "## 12 - References\n",
    "\n",
    "If you would like to learn more about Deep Q-Learning, we recommend you check out the following papers.\n",
    "\n",
    "\n",
    "* Mnih, V., Kavukcuoglu, K., Silver, D. et al. Human-level control through deep reinforcement learning. Nature 518, 529–533 (2015).\n",
    "\n",
    "\n",
    "* Lillicrap, T. P., Hunt, J. J., Pritzel, A., et al. Continuous Control with Deep Reinforcement Learning. ICLR (2016).\n",
    "\n",
    "\n",
    "* Mnih, V., Kavukcuoglu, K., Silver, D. et al. Playing Atari with Deep Reinforcement Learning. arXiv e-prints.  arXiv:1312.5602 (2013)."
   ]
  },
  {
   "cell_type": "markdown",
   "metadata": {},
   "source": [
    "<details>\n",
    "  <summary><font size=\"2\" color=\"darkgreen\"><b>Please click here if you want to experiment with any of the non-graded code.</b></font></summary>\n",
    "    <p><i><b>Important Note: Please only do this when you've already passed the assignment to avoid problems with the autograder.</b></i>\n",
    "    <ol>\n",
    "        <li> On the notebook’s menu, click “View” > “Cell Toolbar” > “Edit Metadata”</li>\n",
    "        <li> Hit the “Edit Metadata” button next to the code cell which you want to lock/unlock</li>\n",
    "        <li> Set the attribute value for “editable” to:\n",
    "            <ul>\n",
    "                <li> “true” if you want to unlock it </li>\n",
    "                <li> “false” if you want to lock it </li>\n",
    "            </ul>\n",
    "        </li>\n",
    "        <li> On the notebook’s menu, click “View” > “Cell Toolbar” > “None” </li>\n",
    "    </ol>\n",
    "    <p> Here's a short demo of how to do the steps above: \n",
    "        <br>\n",
    "        <img src=\"https://lh3.google.com/u/0/d/14Xy_Mb17CZVgzVAgq7NCjMVBvSae3xO1\" align=\"center\" alt=\"unlock_cells.gif\">\n",
    "</details>"
   ]
  }
 ],
 "metadata": {
  "accelerator": "GPU",
  "colab": {
   "collapsed_sections": [],
   "name": "TensorFlow - Lunar Lander.ipynb",
   "provenance": []
  },
  "kernelspec": {
   "display_name": "Python 3",
   "language": "python",
   "name": "python3"
  },
  "language_info": {
   "codemirror_mode": {
    "name": "ipython",
    "version": 3
   },
   "file_extension": ".py",
   "mimetype": "text/x-python",
   "name": "python",
   "nbconvert_exporter": "python",
   "pygments_lexer": "ipython3",
   "version": "3.7.6"
  }
 },
 "nbformat": 4,
 "nbformat_minor": 1
}
